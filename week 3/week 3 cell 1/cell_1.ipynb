{
 "cells": [
  {
   "cell_type": "code",
   "execution_count": 3,
   "id": "e36d6167",
   "metadata": {},
   "outputs": [
    {
     "name": "stdout",
     "output_type": "stream",
     "text": [
      "Enter your state of origin:Rivers State\n",
      "Your state of origin is:  Rivers State\n",
      "The first character is:  Rivers State\n",
      "The characters starting from 3rd to 5th are:  ver\n",
      "The string starting from 3rd character is;  \n",
      "State of origin two times Rivers StateRivers State\n"
     ]
    }
   ],
   "source": [
    "str = input(\"Enter your state of origin:\")\n",
    "\n",
    "print (\"Your state of origin is: \", str)\n",
    "print (\"The first character is: \", str)\n",
    "print (\"The characters starting from 3rd to 5th are: \", str[2:5])\n",
    "print (\"The string starting from 3rd character is; \", str[2:1])\n",
    "print (\"State of origin two times\", str * 2)"
   ]
  },
  {
   "cell_type": "code",
   "execution_count": 2,
   "id": "42d7750d",
   "metadata": {},
   "outputs": [
    {
     "name": "stdout",
     "output_type": "stream",
     "text": [
      "Enter mass in kilograms: 20\n",
      "The energy equivalent to 20.0 kg of mass is 1.7975103574736353e+18 joules.\n"
     ]
    }
   ],
   "source": [
    "# Input from user\n",
    "m = float(input(\"Enter mass in kilograms: \"))\n",
    "\n",
    "# Constant value for the speed of light in m/s\n",
    "c = 299792458\n",
    "\n",
    "# Calculating energy using Einstein's equation \n",
    "energy = m * c ** 2 \n",
    "\n",
    "# Displaying the result\n",
    "print(f\"The energy equivalent to {m} kg of mass is {energy} joules.\")"
   ]
  },
  {
   "cell_type": "code",
   "execution_count": 5,
   "id": "ca6ded39",
   "metadata": {},
   "outputs": [
    {
     "name": "stdout",
     "output_type": "stream",
     "text": [
      "['Anaconda', 786, 2.23, 'jUpyter', 70.2]\n",
      "Anaconda\n",
      "[786, 2.23]\n",
      "[2.23, 'jUpyter', 70.2]\n",
      "[321, 'Python', 321, 'Python']\n",
      "['Anaconda', 786, 2.23, 'jUpyter', 70.2, 321, 'Python']\n"
     ]
    }
   ],
   "source": [
    "list = [ 'Anaconda', 786 , 2.23, 'jUpyter', 70.2]\n",
    "shortlist = [321 , 'Python']\n",
    "\n",
    "print(list)           # Prints complete list '''\n",
    "print(list[0])        # Prints first element of the list\n",
    "print(list[1:3])      # Prints elements starting from 2nd till 3rd\n",
    "print(list[2:])        #Prints elements starting from 3rd element''' \n",
    "print(shortlist * 2)   # Prints list two times\n",
    "print(list + shortlist)# Prints concatenated lists"
   ]
  },
  {
   "cell_type": "code",
   "execution_count": 6,
   "id": "e60d9874",
   "metadata": {},
   "outputs": [
    {
     "name": "stdout",
     "output_type": "stream",
     "text": [
      "('Ekiti', 750, 'oghosa', 250, 'Akure', 500)\n",
      "500\n",
      "('oghosa', 250)\n",
      "()\n",
      "('Abeokuta', 300, 'Ogbomoso', 'Abeokuta', 300, 'Ogbomoso', 'Abeokuta', 300, 'Ogbomoso')\n",
      "('Ekiti', 750, 'oghosa', 250, 'Akure', 500, 'Abeokuta', 300, 'Ogbomoso')\n"
     ]
    }
   ],
   "source": [
    "tuple = (\"Ekiti\", 750, 'oghosa', 250, 'Akure', 500)\n",
    "s_tuple = ('Abeokuta', 300, 'Ogbomoso')\n",
    "\n",
    "# Prints the complete table\n",
    "print (tuple)\n",
    "\n",
    "# Prints last element of the tuple\n",
    "print (tuple[-1])\n",
    "\n",
    "# Print elements of the tuple starting from 2nd till 3rd\n",
    "print (tuple[2:4])\n",
    "\n",
    "# Print elements of the tuple starting from 3rd element\n",
    "print ( tuple[3:1])\n",
    "\n",
    "#Prints the contents of the tuple twice\n",
    "print (s_tuple * 3)\n",
    "\n",
    "# Prints concatenated tuples\n",
    "print (tuple + s_tuple)"
   ]
  },
  {
   "cell_type": "code",
   "execution_count": null,
   "id": "7aec06bd",
   "metadata": {},
   "outputs": [],
   "source": []
  }
 ],
 "metadata": {
  "kernelspec": {
   "display_name": "Python 3 (ipykernel)",
   "language": "python",
   "name": "python3"
  },
  "language_info": {
   "codemirror_mode": {
    "name": "ipython",
    "version": 3
   },
   "file_extension": ".py",
   "mimetype": "text/x-python",
   "name": "python",
   "nbconvert_exporter": "python",
   "pygments_lexer": "ipython3",
   "version": "3.10.9"
  }
 },
 "nbformat": 4,
 "nbformat_minor": 5
}
