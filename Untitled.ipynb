{
 "cells": [
  {
   "cell_type": "code",
   "execution_count": null,
   "id": "c6a2e49f",
   "metadata": {},
   "outputs": [],
   "source": [
    "print(\"Hello Jay\")"
   ]
  },
  {
   "cell_type": "code",
   "execution_count": null,
   "id": "9a356f4b",
   "metadata": {},
   "outputs": [],
   "source": [
    "person = input(\"What's your name\")\n",
    "print('Hello,' person)  "
   ]
  },
  {
   "cell_type": "code",
   "execution_count": null,
   "id": "affe5008",
   "metadata": {},
   "outputs": [],
   "source": [
    "age = 12\n",
    "print(age)"
   ]
  },
  {
   "cell_type": "code",
   "execution_count": null,
   "id": "f77e3c7f",
   "metadata": {},
   "outputs": [],
   "source": [
    "x = 6\n",
    "y = x * 7\n",
    "print(y)"
   ]
  },
  {
   "cell_type": "code",
   "execution_count": null,
   "id": "8c50ead9",
   "metadata": {},
   "outputs": [],
   "source": [
    "name = 'Adele Joe'\n",
    "print (name)"
   ]
  },
  {
   "cell_type": "code",
   "execution_count": null,
   "id": "112deb1e",
   "metadata": {},
   "outputs": [],
   "source": [
    "mango = 5\n",
    "apple = 3\n",
    "apple > mango "
   ]
  },
  {
   "cell_type": "code",
   "execution_count": null,
   "id": "f36c733b",
   "metadata": {},
   "outputs": [],
   "source": [
    "mango < apple"
   ]
  },
  {
   "cell_type": "code",
   "execution_count": null,
   "id": "891e4ab5",
   "metadata": {},
   "outputs": [],
   "source": [
    "mango == apple "
   ]
  }
 ],
 "metadata": {
  "kernelspec": {
   "display_name": "Python 3 (ipykernel)",
   "language": "python",
   "name": "python3"
  },
  "language_info": {
   "codemirror_mode": {
    "name": "ipython",
    "version": 3
   },
   "file_extension": ".py",
   "mimetype": "text/x-python",
   "name": "python",
   "nbconvert_exporter": "python",
   "pygments_lexer": "ipython3",
   "version": "3.10.9"
  }
 },
 "nbformat": 4,
 "nbformat_minor": 5
}
